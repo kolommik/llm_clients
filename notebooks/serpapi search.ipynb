{
 "cells": [
  {
   "cell_type": "code",
   "execution_count": 70,
   "metadata": {},
   "outputs": [],
   "source": [
    "import os\n",
    "from dotenv import load_dotenv\n",
    "\n",
    "import tiktoken\n",
    "import openai\n",
    "from serpapi import GoogleSearch\n",
    "\n",
    "env_path=\"../src/.env\"\n",
    "load_dotenv(dotenv_path=env_path)\n",
    "\n",
    "openai_api_key = os.environ.get(\"OPENAI_API_KEY\")\n",
    "serpapi_api_key = os.environ.get(\"SERPAPI_API_KEY\")\n"
   ]
  },
  {
   "attachments": {},
   "cell_type": "markdown",
   "metadata": {},
   "source": [
    "## Qestion"
   ]
  },
  {
   "cell_type": "code",
   "execution_count": null,
   "metadata": {},
   "outputs": [],
   "source": [
    "question = \"OpenAI ChatGPT\""
   ]
  },
  {
   "attachments": {},
   "cell_type": "markdown",
   "metadata": {},
   "source": [
    "## Search in google"
   ]
  },
  {
   "cell_type": "code",
   "execution_count": 7,
   "metadata": {},
   "outputs": [],
   "source": [
    "params = {\n",
    "  \"api_key\": serpapi_api_key,\n",
    "  \"engine\": \"google\",\n",
    "  \"q\": question,\n",
    "  \"location\": \"Austin, Texas, United States\",\n",
    "  \"google_domain\": \"google.com\",\n",
    "  \"gl\": \"us\",\n",
    "  \"hl\": \"en\"\n",
    "}\n",
    "\n",
    "\n",
    "search = GoogleSearch(params)\n",
    "results = search.get_dict()"
   ]
  },
  {
   "attachments": {},
   "cell_type": "markdown",
   "metadata": {},
   "source": [
    "## Create prompt"
   ]
  },
  {
   "cell_type": "code",
   "execution_count": 64,
   "metadata": {},
   "outputs": [
    {
     "name": "stdout",
     "output_type": "stream",
     "text": [
      "3842\n",
      "==============================\n",
      "Use the following sources to answer the MAIN QUESTION:\n",
      "\n",
      "Info: ChatGPT is an artificial intelligence chatbot developed by OpenAI and released in November 2022. It is built on top of OpenAI's GPT-3.5 and GPT-4 families of large language models and has been fine-tuned using both supervised and reinforcement learning techniques.\n",
      "\n",
      "Source:\n",
      "Title: Introducing ChatGPT - OpenAI\n",
      "Content: ChatGPT is a sibling model to InstructGPT, which is trained to follow an instruction in a prompt and provide a detailed response.\n",
      "\n",
      "Source:\n",
      "Title: ChatGPT: Everything you need to know about the AI-powered ...\n",
      "Content: ChatGPT, OpenAI's text-generating AI chatbot, has taken the world by storm. It's able to write essays, code and more given short text ...\n",
      "\n",
      "Source:\n",
      "Title: Everything We Know About OpenAI's ChatGPT - Gizmodo\n",
      "Content: Everybody's talking about ChatGPT, the powerful new AI chatbot from OpenAI that generates text. Here are the basics you need to know.\n",
      "\n",
      "Source:\n",
      "Title: What is ChatGPT and why does it matter? Here's ... - ZDNET\n",
      "Content: ChatGPT was created by OpenAI, an AI and research company. The company launched ChatGPT on November 30, 2022. ... OpenAI is also responsible for ...\n",
      "\n",
      "Source:\n",
      "Title: ChatGPT - Wikipedia\n",
      "Content: ChatGPT is an artificial intelligence (AI) chatbot developed by OpenAI and released in November 2022. It is built on top of OpenAI's GPT-3.5 and GPT-4 ...\n",
      "\n",
      "Source:\n",
      "Title: What is ChatGPT? Here's how to use the popular AI chatbot\n",
      "Content: This is implied in the name of ChatGPT, which stands for Chat Generative Pre-trained Transformer. In the case of the current version of ChatGPT, ...\n",
      "\n",
      "Source:\n",
      "Title: ChatGPT and Elasticsearch: OpenAI meets private data\n",
      "Content: Based on the powerful GPT architecture, ChatGPT is designed to understand and generate human-like responses to text inputs. GPT stands for \" ...Question: Is ChatGPT available for free?\n",
      "Answer: Is ChatGPT free to use? Yes, the basic version of ChatGPT is completely free to use.\n",
      "\n",
      "Question: Is ChatGPT closed?\n",
      "Answer: ChatGPT was shut down due to a bug that exposed user chat titles | Mashable.\n",
      "\n",
      "Question: Is ChatGPT 4 available?\n",
      "Answer: GPT-4 was officially announced on March 13, as was confirmed ahead of time by Microsoft, even though the exact day was unknown. As of now, however, it's only available in the ChatGPT Plus paid subscription.\n",
      "\n",
      "Question: Is OpenAI owned by Elon Musk?\n",
      "Answer: In 2015, Elon Musk co-founded OpenAI with other prominent figures from Silicon Valley, including Sam Altman, Reid Hoffman, and Peter Thiel. Together, they pledged $1 billion to the project. Initially, OpenAI was established as a nonprofit organization, but it relinquished its nonprofit status in 2019.Question: How can you access ChatGPT?\n",
      "Answer: You can access ChatGPT simply by visiting chat.openai.com and creating an OpenAI account. You can also still use the old URL for the chatbot, which is chat.openai.com/chat. OpenAI simplified the original URL for user convenience. Once you sign in, you can start chatting away with ChatGPT. Get your conversation started by asking a question. Because ChatGPT is still in its research stage, it is free to use and you can ask as many questions as you'd like.For step-by-step instructions, check out ZDNET's guide on how to start using ChatGPT.\n",
      "\n",
      "Question: What is ChatGPT?\n",
      "Answer: ChatGPT is a natural language processing tool driven by AI technology that allows you to have human-like conversations and much more with the chatbot. The language model can answer questions and assist you with tasks, such as composing emails, essays, and code.Also: How does ChatGPT work?Usage is currently open to the public free of charge because ChatGPT is in its research and feedback-collection phase. A paid subscription version called ChatGPT Plus launched at the beginning of February.\n",
      "\n",
      "MAIN QUESTION: OpenAI ChatGPT\n",
      "\n",
      "Answer:\n"
     ]
    }
   ],
   "source": [
    "knowledge_graph_info = f'Info: {results[\"knowledge_graph\"][\"description\"]}'\n",
    "# results[\"knowledge_graph\"][\"description\"]\n",
    "# results[\"knowledge_graph\"][\"source\"][\"name\"]\n",
    "# results[\"knowledge_graph\"][\"source\"][\"link\"]\n",
    "\n",
    "\n",
    "related_questions_info = [\n",
    "   f'Question: {related_questions[\"question\"]}\\nAnswer: {related_questions[\"snippet\"]}' for related_questions in results[\"related_questions\"]\n",
    "]\n",
    "# for related_questions in results[\"related_questions\"]:\n",
    "#     print(related_questions[\"question\"])\n",
    "#     print(related_questions[\"snippet\"])\n",
    "#     print(\"=\"*30)\n",
    "\n",
    "search_results_info = [\n",
    "    # f'Source:\\nTitle: {item[\"title\"]}\\nURL: {item[\"link\"]}\\nContent: {item[\"snippet\"]}' for item in results[\"organic_results\"]\n",
    "    f'Source:\\nTitle: {item[\"title\"]}\\nContent: {item[\"snippet\"]}' for item in results[\"organic_results\"]\n",
    "]\n",
    "search_results_related_questons_info = [\n",
    "    f'Question: {related_questions[\"question\"]}\\nAnswer: {related_questions[\"snippet\"]}'\n",
    "    for item in results[\"organic_results\"]\n",
    "    if item.get(\"related_questions\", None) is not None\n",
    "    for related_questions in item[\"related_questions\"]\n",
    "]\n",
    "\n",
    "# for item in results[\"organic_results\"]:\n",
    "#     print(item[\"position\"])\n",
    "#     print(item[\"link\"])\n",
    "#     print(item[\"title\"])\n",
    "#     print(item[\"snippet\"])\n",
    "\n",
    "#     if item.get(\"related_questions\", None) is not None:\n",
    "#         for related_questions in item[\"related_questions\"]:\n",
    "#             print(related_questions[\"question\"])\n",
    "#             print(related_questions[\"snippet\"])\n",
    "\n",
    "#     print(\"=\"*30)\n",
    "\n",
    "# knowledge_graph_info\n",
    "# related_questions_info\n",
    "# pprint(search_results_info)\n",
    "# pprint(search_results_related_questons_info)\n",
    "\n",
    "\n",
    "prompt = (\n",
    "    \"Use the following sources to answer the MAIN QUESTION:\\n\\n\" + \n",
    "    \"\\n\\n\".join([knowledge_graph_info]) + \"\\n\\n\" +\n",
    "    \"\\n\\n\".join(search_results_info) + \n",
    "    \"\\n\\n\".join(related_questions_info) + \n",
    "    \"\\n\\n\".join(search_results_related_questons_info) + \n",
    "    \"\\n\\nMAIN QUESTION: \" + question + \n",
    "    \"\\n\\nAnswer:\")\n",
    "\n",
    "print(len(prompt))\n",
    "print(\"=\"*30)\n",
    "print(prompt)"
   ]
  },
  {
   "attachments": {},
   "cell_type": "markdown",
   "metadata": {},
   "source": [
    "## OpenAI Tokenizer"
   ]
  },
  {
   "cell_type": "code",
   "execution_count": 106,
   "metadata": {},
   "outputs": [
    {
     "name": "stdout",
     "output_type": "stream",
     "text": [
      "\n",
      "\n",
      "text-davinci-003\n",
      "Total length: 37 tokens. Length:12 words\n",
      "Test| text| english|.| �|�|е|с|т|о�|�|ы|�|�| |т|е|к|с|т| �|�|о| |р|у|с|с|к|и|.| 2019|,| 2| 0| 1| 9\n",
      "14402|2420|46932|13|12466|95|16843|21727|20375|25443|110|45035|140|117|220|20375|16843|31583|21727|20375|12466|123|15166|220|21169|35072|21727|21727|31583|18849|13|13130|11|362|657|352|860\n",
      "\n",
      "\n",
      "gpt-3.5-turbo\n",
      "Total length: 26 tokens. Length:12 words\n",
      "Test| text| english|.| Т|ест|ов|ый| текст| по| р|ус|ски|.| |201|9|,| |2| |0| |1| |9\n",
      "2323|1495|30063|13|51418|37277|6856|35723|71995|18154|18600|44155|80112|13|220|679|24|11|220|17|220|15|220|16|220|24\n"
     ]
    }
   ],
   "source": [
    "def show_tokens(model:str=\"cl100k_base\"):\n",
    "    encoding = tiktoken.encoding_for_model(model)\n",
    "    tokens_ids = encoding.encode(value)\n",
    "\n",
    "    # for token_id in tokens_ids:\n",
    "    #     token = encoding.decode([token_id])\n",
    "    #     print(f\"Token ID: {token_id}, Token: {token}\")\n",
    "    print(f\"\\n\\n{model}\")\n",
    "    print(f\"Total length: {len(tokens_ids)} tokens. Length:{len(value.split())} words\")\n",
    "    print(\"|\".join([encoding.decode([token_id]) for token_id in tokens_ids]))\n",
    "    print(\"|\".join([str(token_id) for token_id in tokens_ids]))\n",
    "\n",
    "\n",
    "value = \"Test text english. Тестовый текст по русски. 2019, 2 0 1 9\"\n",
    "\n",
    "show_tokens(\"text-davinci-003\") # smae \"text-davinci-002\"\n",
    "show_tokens(\"gpt-3.5-turbo\") # same \"gpt-4\"\n"
   ]
  },
  {
   "cell_type": "code",
   "execution_count": 112,
   "metadata": {},
   "outputs": [
    {
     "data": {
      "text/plain": [
       "26"
      ]
     },
     "execution_count": 112,
     "metadata": {},
     "output_type": "execute_result"
    }
   ],
   "source": [
    "def num_tokens_from_messages(messages, model:str = \"cl100k_base\", mode:str=\"ChatCompletion\") -> int:\n",
    "    try:\n",
    "        encoding = tiktoken.encoding_for_model(model)\n",
    "    except KeyError:\n",
    "        encoding = tiktoken.get_encoding(\"cl100k_base\")\n",
    "\n",
    "    if mode ==\"ChatCompletion\":\n",
    "        num_tokens = 0\n",
    "        for message in messages:\n",
    "            num_tokens += 4  # every message follows <im_start>{role/name}\\n{content}<im_end>\\n\n",
    "            for key, value in message.items():\n",
    "                num_tokens += len(encoding.encode(value))\n",
    "                if key == \"name\":  # if there's a name, the role is omitted\n",
    "                    num_tokens += -1  # role is always required and always 1 token\n",
    "        num_tokens += 2  # every reply is primed with <im_start>assistant\n",
    "    else:\n",
    "        num_tokens = len(encoding.encode(messages))\n",
    "        \n",
    "    return num_tokens\n",
    "\n",
    "num_tokens_from_messages(value, \"gpt-3.5-turbo\",\"Completion\")"
   ]
  },
  {
   "attachments": {},
   "cell_type": "markdown",
   "metadata": {},
   "source": [
    "## OpenAI Results"
   ]
  },
  {
   "attachments": {},
   "cell_type": "markdown",
   "metadata": {},
   "source": [
    "### Completion by \"text-davinci-003\""
   ]
  },
  {
   "cell_type": "code",
   "execution_count": 140,
   "metadata": {},
   "outputs": [
    {
     "name": "stdout",
     "output_type": "stream",
     "text": [
      "Tokens len: 954\n",
      "{\n",
      "  \"completion_tokens\": 105,\n",
      "  \"prompt_tokens\": 954,\n",
      "  \"total_tokens\": 1059\n",
      "}\n",
      "Answer: OpenAI ChatGPT is an artificial intelligence chatbot developed by OpenAI and released in November 2022. It is built on top of OpenAI's GPT-3.5 and GPT-4 families of large language models and has been fine-tuned using both supervised and reinforcement learning techniques. OpenAI ChatGPT is designed to understand and generate human-like responses to text inputs. The basic version of OpenAI ChatGPT is free to use, but the Plus version is offered as a paid subscription.\n"
     ]
    }
   ],
   "source": [
    "# Check if there are any results\n",
    "if results:\n",
    "\n",
    "    print(\"Tokens len:\",\n",
    "        num_tokens_from_messages(prompt, \"text-davinci-003\",\"Completion\")\n",
    "        )\n",
    "\n",
    "    # Use OpenAI's GPT-3 API to answer the question\n",
    "    openai.api_key = openai_api_key\n",
    "    response = openai.Completion.create(\n",
    "        engine=\"text-davinci-003\",\n",
    "        prompt=prompt,\n",
    "        max_tokens=1024,\n",
    "        n=1,\n",
    "        stop=None,\n",
    "        temperature=0.7,\n",
    "    )\n",
    "\n",
    "    # Print the usage\n",
    "    print(response[\"usage\"])\n",
    "\n",
    "    # Print the answer from OpenAI\n",
    "    answer = response[\"choices\"][0][\"text\"].strip()\n",
    "    print(f\"Answer: {answer}\")\n",
    "    \n",
    "else:\n",
    "    # Print an error message if there are no results\n",
    "    print(\"Error: No results found for the given query.\")"
   ]
  },
  {
   "cell_type": "code",
   "execution_count": 143,
   "metadata": {},
   "outputs": [
    {
     "data": {
      "text/plain": [
       "<OpenAIObject text_completion id=cmpl-78YXDOaSbSvuOzxqzWh8cyjo2a8bk at 0x21217286ca0> JSON: {\n",
       "  \"choices\": [\n",
       "    {\n",
       "      \"finish_reason\": \"stop\",\n",
       "      \"index\": 0,\n",
       "      \"logprobs\": null,\n",
       "      \"text\": \" OpenAI ChatGPT is an artificial intelligence chatbot developed by OpenAI and released in November 2022. It is built on top of OpenAI's GPT-3.5 and GPT-4 families of large language models and has been fine-tuned using both supervised and reinforcement learning techniques. OpenAI ChatGPT is designed to understand and generate human-like responses to text inputs. The basic version of OpenAI ChatGPT is free to use, but the Plus version is offered as a paid subscription.\"\n",
       "    }\n",
       "  ],\n",
       "  \"created\": 1682273731,\n",
       "  \"id\": \"cmpl-78YXDOaSbSvuOzxqzWh8cyjo2a8bk\",\n",
       "  \"model\": \"text-davinci-003\",\n",
       "  \"object\": \"text_completion\",\n",
       "  \"usage\": {\n",
       "    \"completion_tokens\": 105,\n",
       "    \"prompt_tokens\": 954,\n",
       "    \"total_tokens\": 1059\n",
       "  }\n",
       "}"
      ]
     },
     "execution_count": 143,
     "metadata": {},
     "output_type": "execute_result"
    }
   ],
   "source": [
    "response"
   ]
  },
  {
   "attachments": {},
   "cell_type": "markdown",
   "metadata": {},
   "source": [
    "### ChatCompletion by \"gpt-3.5-turbo\""
   ]
  },
  {
   "cell_type": "code",
   "execution_count": 144,
   "metadata": {},
   "outputs": [
    {
     "name": "stdout",
     "output_type": "stream",
     "text": [
      "Tokens len: 910\n",
      "{\n",
      "  \"completion_tokens\": 130,\n",
      "  \"prompt_tokens\": 911,\n",
      "  \"total_tokens\": 1041\n",
      "}\n",
      "Answer: ChatGPT is an artificial intelligence chatbot developed by OpenAI that uses GPT-3.5 and GPT-4 language models and has been fine-tuned using both supervised and reinforcement learning techniques. It is available to the public for free through the OpenAI website and can be used for natural language processing tasks such as answering questions, composing emails, essays, and code. There is also a paid subscription version called ChatGPT Plus, which includes access to GPT-4. OpenAI was co-founded by Elon Musk in 2015 and initially established as a nonprofit organization, but relinquished its nonprofit status in 2019.\n"
     ]
    }
   ],
   "source": [
    "chat_prompt = [\n",
    "    dict(role=\"user\",content=prompt)\n",
    "]\n",
    "\n",
    "# Check if there are any results\n",
    "if results:\n",
    "    print(\"Tokens len:\",\n",
    "            num_tokens_from_messages(chat_prompt, \"gpt-3.5-turbo\",\"ChatCompletion\")\n",
    "            )\n",
    "\n",
    "    # Use OpenAI's GPT-3.5 Turbo API to answer the question\n",
    "    openai.api_key = openai_api_key\n",
    "    \n",
    "    response = openai.ChatCompletion.create(\n",
    "        model=\"gpt-3.5-turbo\",\n",
    "        messages=chat_prompt,\n",
    "        max_tokens=1024,\n",
    "        n=1,\n",
    "        stop=None,\n",
    "        temperature=0.7,\n",
    "    )\n",
    "\n",
    "    # Print the usage\n",
    "    print(response[\"usage\"])\n",
    "\n",
    "    # Print the answer from OpenAI\n",
    "    answer = response[\"choices\"][0][\"message\"][\"content\"]\n",
    "\n",
    "    print(f\"Answer: {answer}\")\n",
    "    \n",
    "else:\n",
    "    # Print an error message if there are no results\n",
    "    print(\"Error: No results found for the given query.\")"
   ]
  },
  {
   "cell_type": "code",
   "execution_count": 145,
   "metadata": {},
   "outputs": [
    {
     "data": {
      "text/plain": [
       "<OpenAIObject chat.completion id=chatcmpl-78YYoV21kO0KMz82h6PhSa3IK1Pbp at 0x2121752d8a0> JSON: {\n",
       "  \"choices\": [\n",
       "    {\n",
       "      \"finish_reason\": \"stop\",\n",
       "      \"index\": 0,\n",
       "      \"message\": {\n",
       "        \"content\": \"ChatGPT is an artificial intelligence chatbot developed by OpenAI that uses GPT-3.5 and GPT-4 language models and has been fine-tuned using both supervised and reinforcement learning techniques. It is available to the public for free through the OpenAI website and can be used for natural language processing tasks such as answering questions, composing emails, essays, and code. There is also a paid subscription version called ChatGPT Plus, which includes access to GPT-4. OpenAI was co-founded by Elon Musk in 2015 and initially established as a nonprofit organization, but relinquished its nonprofit status in 2019.\",\n",
       "        \"role\": \"assistant\"\n",
       "      }\n",
       "    }\n",
       "  ],\n",
       "  \"created\": 1682273830,\n",
       "  \"id\": \"chatcmpl-78YYoV21kO0KMz82h6PhSa3IK1Pbp\",\n",
       "  \"model\": \"gpt-3.5-turbo-0301\",\n",
       "  \"object\": \"chat.completion\",\n",
       "  \"usage\": {\n",
       "    \"completion_tokens\": 130,\n",
       "    \"prompt_tokens\": 911,\n",
       "    \"total_tokens\": 1041\n",
       "  }\n",
       "}"
      ]
     },
     "execution_count": 145,
     "metadata": {},
     "output_type": "execute_result"
    }
   ],
   "source": [
    "response"
   ]
  },
  {
   "cell_type": "code",
   "execution_count": null,
   "metadata": {},
   "outputs": [],
   "source": []
  }
 ],
 "metadata": {
  "kernelspec": {
   "display_name": ".venv",
   "language": "python",
   "name": "python3"
  },
  "language_info": {
   "codemirror_mode": {
    "name": "ipython",
    "version": 3
   },
   "file_extension": ".py",
   "mimetype": "text/x-python",
   "name": "python",
   "nbconvert_exporter": "python",
   "pygments_lexer": "ipython3",
   "version": "3.10.6 (tags/v3.10.6:9c7b4bd, Aug  1 2022, 21:53:49) [MSC v.1932 64 bit (AMD64)]"
  },
  "orig_nbformat": 4,
  "vscode": {
   "interpreter": {
    "hash": "9442addcccff31d05cb136d02b7704d2b498b4416075912083527d21ef4b8dcb"
   }
  }
 },
 "nbformat": 4,
 "nbformat_minor": 2
}
